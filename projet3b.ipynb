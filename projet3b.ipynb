{
 "cells": [
  {
   "cell_type": "markdown",
   "metadata": {},
   "source": [
    "## Partie 1 : Apprentissage des paramètres d’un modèle à partir de données\n",
    "\n",
    "Dans notre modèle, nous allons considérer qu’à chaque temps :\n",
    "- chaque individu sain peut rester sain ou devenir infecté\n",
    "- chaque individu infecté peut rester infecté ou devenir guéri\n",
    "- chaque individu guéri reste guéri\n",
    "\n",
    "et que la probabilité de passer d’un état à l’autre **ne dépend que de l’état précédent**.\n"
   ]
  },
  {
   "cell_type": "markdown",
   "metadata": {},
   "source": [
    "Suivi d'un individu sur 10 jours : \n",
    "$S, S, S, I, I ,I ,I , I, I, R$\n",
    "\n",
    "La matrice de probabilité de transitions\n",
    "\n",
    "|  |S | I | R |\n",
    "| :--|:--:| :--:|--:|\n",
    "|S   | 2/3 |1/3  |0|\n",
    "|I   | 1/6 | 5/6 |0|\n",
    "|R   |0    |  0  |1|"
   ]
  },
  {
   "cell_type": "code",
   "execution_count": 2,
   "metadata": {},
   "outputs": [],
   "source": [
    "import numpy as np\n",
    "import matplotlib.pyplot as plt\n",
    "import random"
   ]
  },
  {
   "cell_type": "markdown",
   "metadata": {},
   "source": [
    "Nous avons ensuite suivit une population de $5000$ individus, pendant $200$ jours. Pour lire les données\n",
    "utiliser `np.loadtxt(‘data_exo1.txt’)`. \n",
    "Les individus sains sont note 0, les infecté 1 et les guéris 2."
   ]
  },
  {
   "cell_type": "code",
   "execution_count": 3,
   "metadata": {},
   "outputs": [],
   "source": [
    "data = np.loadtxt(\"data_ex1.txt\", dtype =int) # Lecture des données\n",
    "\n",
    "# 0 --> Sain (S)\n",
    "# 1 --> Infecté (I)\n",
    "# 2 --> Guéri (R)\n",
    "\n",
    "def probas(data):\n",
    "    m = np.zeros((3,3), dtype= float) #Création d'une matrice initialisée à 0\n",
    "    prec = 9 #Declaration d'une variable précédent\n",
    "\n",
    "\n",
    "    for individu in data : \n",
    "        for state in individu :\n",
    "            if prec == 9 : #Si c'est la premiere valeur pour un individu on passe au suivant et on le met dans le precedent\n",
    "                prec = state\n",
    "                continue\n",
    "            else : # Sinon on compte la transition dans la matrice m (precedent -> state)\n",
    "                m[prec][state]+=1\n",
    "            prec = state\n",
    "        prec = 9 #A la fin de chaque individu il n'y a plus de precedent\n",
    "\n",
    "    sum = np.sum(m,axis=1) #On somme toute les lignes\n",
    "    \n",
    "    for i in range(3) :\n",
    "        for j in range(3) :\n",
    "            m[i][j] = m[i][j]/sum[i] #On chaque case par le nombre total de transition dans une ligne\n",
    "    \n",
    "    return m\n",
    "            \n",
    "\n",
    "\n",
    "matrice = probas(data)\n"
   ]
  },
  {
   "cell_type": "markdown",
   "metadata": {},
   "source": [
    "## Partie 2 : Description du premier modèle"
   ]
  },
  {
   "cell_type": "markdown",
   "metadata": {},
   "source": [
    "Grâce au graph de transition du document 1 on obtient la matrice de transition A suivante :\n",
    "|  |S | I | R |\n",
    "| :--|:--:| :--:|--:|\n",
    "|S   |0.92 | 0.08 |  0 |\n",
    "|I   | 0   | 0.93 |0.07|\n",
    "|R   |  0  |  0   |  1 |"
   ]
  },
  {
   "cell_type": "code",
   "execution_count": 4,
   "metadata": {},
   "outputs": [
    {
     "name": "stdout",
     "output_type": "stream",
     "text": [
      "[[0.92, 0.08, 0], [0, 0.93, 0.07], [0, 0, 1]]\n"
     ]
    }
   ],
   "source": [
    "A = [[0.92,0.08,0],[0,0.93,0.07],[0,0,1]]\n",
    "print(A)"
   ]
  },
  {
   "cell_type": "code",
   "execution_count": 5,
   "metadata": {},
   "outputs": [
    {
     "name": "stdout",
     "output_type": "stream",
     "text": [
      "True\n"
     ]
    }
   ],
   "source": [
    "def stochastique(matrice) :\n",
    "    return np.all(matrice >= 0 ) and np.all(np.sum(matrice, axis=1)) == 1\n",
    "\n",
    "print(stochastique(matrice))"
   ]
  },
  {
   "cell_type": "markdown",
   "metadata": {},
   "source": [
    "Au temps $t = 0$, un individu a une probabilité de 0.9 d’être sain et 0.1 d’être infecté.\n",
    "Soit $\\pi_0$ la distribution de la probabilité initiale.\n",
    "On a donc $\\pi_0 = [0.9;0.1;0]$"
   ]
  },
  {
   "cell_type": "code",
   "execution_count": 6,
   "metadata": {},
   "outputs": [
    {
     "name": "stdout",
     "output_type": "stream",
     "text": [
      "[0.9, 0.1, 0]\n"
     ]
    }
   ],
   "source": [
    "pi0 = [0.9,0.1,0]\n",
    "print(pi0)"
   ]
  },
  {
   "cell_type": "markdown",
   "metadata": {},
   "source": [
    "Distribution :\n",
    "\n",
    "Au temps $t = 1$ on a donc $\\pi_0 \\times A$ donc $\\pi_1 = [0.828;0.165;0.007]$"
   ]
  },
  {
   "cell_type": "code",
   "execution_count": 7,
   "metadata": {},
   "outputs": [
    {
     "name": "stdout",
     "output_type": "stream",
     "text": [
      "[0.828 0.165 0.007]\n"
     ]
    }
   ],
   "source": [
    "pi1 = np.dot(pi0,A)\n",
    "print(pi1)"
   ]
  },
  {
   "cell_type": "markdown",
   "metadata": {},
   "source": [
    "Au temps $t = 2$ on a donc $\\pi_1 \\times A$ donc $\\pi_2 = [0,76176;0,21969;0,01855]$"
   ]
  },
  {
   "cell_type": "code",
   "execution_count": 8,
   "metadata": {},
   "outputs": [
    {
     "name": "stdout",
     "output_type": "stream",
     "text": [
      "[0.76176 0.21969 0.01855]\n"
     ]
    }
   ],
   "source": [
    "pi2 = np.dot(pi1,A)\n",
    "print(pi2)"
   ]
  },
  {
   "cell_type": "markdown",
   "metadata": {},
   "source": [
    "Afin de calculer la distribution theorique des effectifs dans chaque états on doit donc calculer $\\pi_t$ à chaque temps $t$\n",
    "On a donc\n",
    "$$ \\pi_{t+1}=\\pi_{t}\\times A = (\\pi_{t-1}\\times A)\\times A = \\pi_0 \\times A^t $$"
   ]
  },
  {
   "cell_type": "code",
   "execution_count": 9,
   "metadata": {},
   "outputs": [
    {
     "data": {
      "image/png": "[encoded data removed]",
      "text/plain": [
       "<Figure size 504x360 with 1 Axes>"
      ]
     },
     "metadata": {
      "needs_background": "light"
     },
     "output_type": "display_data"
    }
   ],
   "source": [
    "def distribution (pi,a,t):\n",
    "    return np.matmul(pi,np.linalg.matrix_power(a,t))\n",
    "\n",
    "\n",
    "\n",
    "for i in range (1,201) :\n",
    "   distribution(pi0,A,i)\n",
    "\n",
    "T = np.arange(200)\n",
    "\n",
    "pit = np.zeros((200, 3))\n",
    "\n",
    "\n",
    "for i in range(0, 200):\n",
    "    pit[i] = distribution(pi0,A,i)\n",
    "\n",
    "\n",
    "\n",
    "fig = plt.figure(figsize=(7, 5))\n",
    "plt.title(\"Evolution temporelle des états\")\n",
    "plt.plot(T, pit[:,0], label='Sain (S)')\n",
    "plt.plot(T, pit[:,1], label=\"Infecté (I)\")\n",
    "plt.plot(T, pit[:,2], label=\"Guéri (R)\")\n",
    "plt.xlabel(\"Temps t\")\n",
    "plt.ylabel(\"Probabilités des états\")\n",
    "plt.legend()\n",
    "plt.show()\n",
    "\n",
    "\n",
    "#with open(\"example.txt\",\"w\") as f :\n",
    "#    f.write(\"hello\")\n",
    "\n"
   ]
  },
  {
   "cell_type": "markdown",
   "metadata": {},
   "source": [
    "on peut voir qu'au bout d'un certain temps t on ne peut qu'etre dans l'etat guéri"
   ]
  },
  {
   "cell_type": "code",
   "execution_count": 60,
   "metadata": {},
   "outputs": [
    {
     "name": "stdout",
     "output_type": "stream",
     "text": [
      "[0]\n"
     ]
    }
   ],
   "source": [
    "prec = -1\n",
    "sequences = np.zeros(150)\n",
    "print(np.random.choice(3,1, p=A[0]))\n",
    "for i in range(1, 150):\n",
    "    sequences[i] = random.choice(3,1, p=A[prec[i-1]])\n"
   ]
  }
 ],
 "metadata": {
  "kernelspec": {
   "display_name": "Python 3.9.6 64-bit",
   "language": "python",
   "name": "python3"
  },
  "language_info": {
   "codemirror_mode": {
    "name": "ipython",
    "version": 3
   },
   "file_extension": ".py",
   "mimetype": "text/x-python",
   "name": "python",
   "nbconvert_exporter": "python",
   "pygments_lexer": "ipython3",
   "version": "3.9.6"
  },
  "orig_nbformat": 4,
  "vscode": {
   "interpreter": {
    "hash": "949777d72b0d2535278d3dc13498b2535136f6dfe0678499012e853ee9abcab1"
   }
  }
 },
 "nbformat": 4,
 "nbformat_minor": 2
}
