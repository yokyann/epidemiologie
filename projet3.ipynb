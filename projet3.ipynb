{
 "cells": [
  {
   "cell_type": "markdown",
   "metadata": {},
   "source": [
    "## Partie 1 : Apprentissage des paramètres d’un modèle à partir de données\n",
    "\n",
    "Dans notre modèle, nous allons considérer qu’à chaque temps :\n",
    "- chaque individu sain peut rester sain ou devenir infecté\n",
    "- chaque individu infecté peut rester infecté ou devenir guéri\n",
    "- chaque individu guéri reste guéri\n",
    "\n",
    "et que la probabilité de passer d’un état à l’autre **ne dépend que de l’état précédent**.\n"
   ]
  },
  {
   "cell_type": "markdown",
   "metadata": {},
   "source": [
    "Suivi d'un individu sur 10 jours : \n",
    "$S, S, S, I, I ,I ,I , I, I, R$\n",
    "\n",
    "La matrice de probabilité de transitions\n",
    "\n",
    "|  |S | I | R |\n",
    "| :--|:--:| :--:|--:|\n",
    "|S   | 2/3 |1/3  |0|\n",
    "|I   | 1/6 | 5/6 |0|\n",
    "|R   |0    |  0  |1|"
   ]
  },
  {
   "cell_type": "code",
   "execution_count": 2,
   "metadata": {},
   "outputs": [],
   "source": [
    "import pandas as pd\n",
    "import numpy as np\n"
   ]
  },
  {
   "cell_type": "markdown",
   "metadata": {},
   "source": [
    "Nous avons ensuite suivit une population de $5000$ individus, pendant $200$ jours. Pour lire les données\n",
    "utiliser `np.loadtxt(‘data_exo1.txt’)`. \n",
    "Les individus sains sont note 0, les infecté 1 et les guéris 2."
   ]
  },
  {
   "cell_type": "code",
   "execution_count": 28,
   "metadata": {},
   "outputs": [
    {
     "name": "stdout",
     "output_type": "stream",
     "text": [
      "5000\n",
      "0 0 9\n",
      "0 0 0\n",
      "0\n"
     ]
    },
    {
     "ename": "IndexError",
     "evalue": "list index out of range",
     "output_type": "error",
     "traceback": [
      "\u001b[0;31m---------------------------------------------------------------------------\u001b[0m",
      "\u001b[0;31mIndexError\u001b[0m                                Traceback (most recent call last)",
      "Cell \u001b[0;32mIn [28], line 30\u001b[0m\n\u001b[1;32m     26\u001b[0m             prec \u001b[39m=\u001b[39m state\n\u001b[1;32m     27\u001b[0m         p[d]\u001b[39m=\u001b[39mtab\n\u001b[0;32m---> 30\u001b[0m probas(data, \u001b[39m0\u001b[39;49m)\n",
      "Cell \u001b[0;32mIn [28], line 17\u001b[0m, in \u001b[0;36mprobas\u001b[0;34m(data, etat)\u001b[0m\n\u001b[1;32m     15\u001b[0m \u001b[39mif\u001b[39;00m state \u001b[39m==\u001b[39m \u001b[39m0\u001b[39m \u001b[39mand\u001b[39;00m prec \u001b[39m==\u001b[39m etat:\n\u001b[1;32m     16\u001b[0m     \u001b[39mprint\u001b[39m(\u001b[39m\"\u001b[39m\u001b[39m0\u001b[39m\u001b[39m\"\u001b[39m)\n\u001b[0;32m---> 17\u001b[0m     \u001b[39mprint\u001b[39m[\u001b[39m\"\u001b[39m\u001b[39mtest\u001b[39m\u001b[39m\"\u001b[39m, tab[state]]\n\u001b[1;32m     18\u001b[0m     \u001b[39m# tab[state]+=1\u001b[39;00m\n\u001b[1;32m     19\u001b[0m \u001b[39mif\u001b[39;00m state \u001b[39m==\u001b[39m \u001b[39m1\u001b[39m \u001b[39mand\u001b[39;00m prec \u001b[39m==\u001b[39m etat:\n",
      "\u001b[0;31mIndexError\u001b[0m: list index out of range"
     ]
    }
   ],
   "source": [
    "data = np.loadtxt(\"data_ex1.txt\", dtype =int)\n",
    "\n",
    "# 0 --> Sain (S)\n",
    "# 1 --> Infecté (I)\n",
    "# 2 --> Guéri (R)\n",
    "\n",
    "def probas(data,etat):\n",
    "    p=[] # nombre de transitions pour tous les individus en fonction de l'etat donné en argument \n",
    "    tab = []\n",
    "    prec = 9\n",
    "    print(len(data))\n",
    "    for d in range(len(data)-1) :\n",
    "        for state in data[d] :\n",
    "            print(etat, state, prec)\n",
    "            if state == 0 and prec == etat:\n",
    "                print(\"0\")\n",
    "                print[\"test\", tab[state]]\n",
    "                # tab[state]+=1\n",
    "            if state == 1 and prec == etat:\n",
    "                print(\"1\")\n",
    "                # tab[state]+=1\n",
    "            if state == 2 and prec == etat:\n",
    "                print(\"2\")\n",
    "                # tab[state]+=1\n",
    "                \n",
    "            prec = state\n",
    "        p[d]=tab\n",
    "            \n",
    "        \n",
    "probas(data, 0)\n",
    "\n",
    "# print(range(len(data)))\n",
    "    "
   ]
  }
 ],
 "metadata": {
  "kernelspec": {
   "display_name": "Python 3.10.6 64-bit",
   "language": "python",
   "name": "python3"
  },
  "language_info": {
   "codemirror_mode": {
    "name": "ipython",
    "version": 3
   },
   "file_extension": ".py",
   "mimetype": "text/x-python",
   "name": "python",
   "nbconvert_exporter": "python",
   "pygments_lexer": "ipython3",
   "version": "3.10.6"
  },
  "orig_nbformat": 4,
  "vscode": {
   "interpreter": {
    "hash": "916dbcbb3f70747c44a77c7bcd40155683ae19c65e1c03b4aa3499c5328201f1"
   }
  }
 },
 "nbformat": 4,
 "nbformat_minor": 2
}
